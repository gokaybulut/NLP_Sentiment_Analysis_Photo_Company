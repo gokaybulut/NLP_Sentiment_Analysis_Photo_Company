{
 "cells": [
  {
   "cell_type": "code",
   "execution_count": 6,
   "metadata": {},
   "outputs": [],
   "source": [
    "import pandas as pd\n",
    "import matplotlib.pyplot as plt\n",
    "\n",
    "#read the files\n",
    "df_cvec = pd.read_csv('3a_CountVectorized.csv')\n",
    "df_tfid = pd.read_csv('3b_TfidfVectorized.csv')\n",
    "df_hash = pd.read_csv('3c_HashingVectorized.csv')\n",
    "df_smot = pd.read_csv('3d_CountVec_SMOTEd.csv')\n",
    "df_pcas = pd.read_csv('3e_CountVec_PCA+SMOTEd.csv')\n",
    "df_tsvd = pd.read_csv('3f_CountVec_TSVD+SMOTEd.csv')\n",
    "df_w2vm = pd.read_csv('3g_Word2Vec_ML.csv')\n",
    "df_dnns = pd.read_csv('3h_Word2Vec_GloVe_CNN_RNN.csv')"
   ]
  },
  {
   "cell_type": "code",
   "execution_count": 7,
   "metadata": {},
   "outputs": [
    {
     "data": {
      "text/html": [
       "<div>\n",
       "<style scoped>\n",
       "    .dataframe tbody tr th:only-of-type {\n",
       "        vertical-align: middle;\n",
       "    }\n",
       "\n",
       "    .dataframe tbody tr th {\n",
       "        vertical-align: top;\n",
       "    }\n",
       "\n",
       "    .dataframe thead th {\n",
       "        text-align: right;\n",
       "    }\n",
       "</style>\n",
       "<table border=\"1\" class=\"dataframe\">\n",
       "  <thead>\n",
       "    <tr style=\"text-align: right;\">\n",
       "      <th></th>\n",
       "      <th></th>\n",
       "      <th></th>\n",
       "      <th></th>\n",
       "      <th>precision</th>\n",
       "      <th>recall</th>\n",
       "      <th>f1-score</th>\n",
       "      <th>support</th>\n",
       "    </tr>\n",
       "    <tr>\n",
       "      <th>vectorizer</th>\n",
       "      <th>model</th>\n",
       "      <th>accuracy</th>\n",
       "      <th>class</th>\n",
       "      <th></th>\n",
       "      <th></th>\n",
       "      <th></th>\n",
       "      <th></th>\n",
       "    </tr>\n",
       "  </thead>\n",
       "  <tbody>\n",
       "    <tr>\n",
       "      <td rowspan=\"5\" valign=\"top\">CountVect</td>\n",
       "      <td rowspan=\"3\" valign=\"top\">LogReg</td>\n",
       "      <td rowspan=\"3\" valign=\"top\">0.830986</td>\n",
       "      <td>neg_review</td>\n",
       "      <td>0.833333</td>\n",
       "      <td>0.312500</td>\n",
       "      <td>0.454545</td>\n",
       "      <td>48.0</td>\n",
       "    </tr>\n",
       "    <tr>\n",
       "      <td>pos_review</td>\n",
       "      <td>0.830769</td>\n",
       "      <td>0.981818</td>\n",
       "      <td>0.900000</td>\n",
       "      <td>165.0</td>\n",
       "    </tr>\n",
       "    <tr>\n",
       "      <td>average</td>\n",
       "      <td>0.831347</td>\n",
       "      <td>0.830986</td>\n",
       "      <td>0.799616</td>\n",
       "      <td>213.0</td>\n",
       "    </tr>\n",
       "    <tr>\n",
       "      <td rowspan=\"2\" valign=\"top\">KNN</td>\n",
       "      <td rowspan=\"2\" valign=\"top\">0.798122</td>\n",
       "      <td>neg_review</td>\n",
       "      <td>0.647059</td>\n",
       "      <td>0.229167</td>\n",
       "      <td>0.338462</td>\n",
       "      <td>48.0</td>\n",
       "    </tr>\n",
       "    <tr>\n",
       "      <td>pos_review</td>\n",
       "      <td>0.811224</td>\n",
       "      <td>0.963636</td>\n",
       "      <td>0.880886</td>\n",
       "      <td>165.0</td>\n",
       "    </tr>\n",
       "    <tr>\n",
       "      <td>...</td>\n",
       "      <td>...</td>\n",
       "      <td>...</td>\n",
       "      <td>...</td>\n",
       "      <td>...</td>\n",
       "      <td>...</td>\n",
       "      <td>...</td>\n",
       "      <td>...</td>\n",
       "    </tr>\n",
       "    <tr>\n",
       "      <td rowspan=\"5\" valign=\"top\">Deep_Learning</td>\n",
       "      <td rowspan=\"2\" valign=\"top\">CNN</td>\n",
       "      <td rowspan=\"2\" valign=\"top\">0.771863</td>\n",
       "      <td>pos_review</td>\n",
       "      <td>0.854839</td>\n",
       "      <td>0.828125</td>\n",
       "      <td>0.841270</td>\n",
       "      <td>192.0</td>\n",
       "    </tr>\n",
       "    <tr>\n",
       "      <td>average</td>\n",
       "      <td>0.778329</td>\n",
       "      <td>0.771863</td>\n",
       "      <td>0.774677</td>\n",
       "      <td>263.0</td>\n",
       "    </tr>\n",
       "    <tr>\n",
       "      <td rowspan=\"3\" valign=\"top\">RNN_LSTM</td>\n",
       "      <td rowspan=\"3\" valign=\"top\">0.832700</td>\n",
       "      <td>neg_review</td>\n",
       "      <td>0.728814</td>\n",
       "      <td>0.605634</td>\n",
       "      <td>0.661538</td>\n",
       "      <td>71.0</td>\n",
       "    </tr>\n",
       "    <tr>\n",
       "      <td>pos_review</td>\n",
       "      <td>0.862745</td>\n",
       "      <td>0.916667</td>\n",
       "      <td>0.888889</td>\n",
       "      <td>192.0</td>\n",
       "    </tr>\n",
       "    <tr>\n",
       "      <td>average</td>\n",
       "      <td>0.826589</td>\n",
       "      <td>0.832700</td>\n",
       "      <td>0.827513</td>\n",
       "      <td>263.0</td>\n",
       "    </tr>\n",
       "  </tbody>\n",
       "</table>\n",
       "<p>264 rows × 4 columns</p>\n",
       "</div>"
      ],
      "text/plain": [
       "                                            precision    recall  f1-score  \\\n",
       "vectorizer    model    accuracy class                                       \n",
       "CountVect     LogReg   0.830986 neg_review   0.833333  0.312500  0.454545   \n",
       "                                pos_review   0.830769  0.981818  0.900000   \n",
       "                                average      0.831347  0.830986  0.799616   \n",
       "              KNN      0.798122 neg_review   0.647059  0.229167  0.338462   \n",
       "                                pos_review   0.811224  0.963636  0.880886   \n",
       "...                                               ...       ...       ...   \n",
       "Deep_Learning CNN      0.771863 pos_review   0.854839  0.828125  0.841270   \n",
       "                                average      0.778329  0.771863  0.774677   \n",
       "              RNN_LSTM 0.832700 neg_review   0.728814  0.605634  0.661538   \n",
       "                                pos_review   0.862745  0.916667  0.888889   \n",
       "                                average      0.826589  0.832700  0.827513   \n",
       "\n",
       "                                            support  \n",
       "vectorizer    model    accuracy class                \n",
       "CountVect     LogReg   0.830986 neg_review     48.0  \n",
       "                                pos_review    165.0  \n",
       "                                average       213.0  \n",
       "              KNN      0.798122 neg_review     48.0  \n",
       "                                pos_review    165.0  \n",
       "...                                             ...  \n",
       "Deep_Learning CNN      0.771863 pos_review    192.0  \n",
       "                                average       263.0  \n",
       "              RNN_LSTM 0.832700 neg_review     71.0  \n",
       "                                pos_review    192.0  \n",
       "                                average       263.0  \n",
       "\n",
       "[264 rows x 4 columns]"
      ]
     },
     "execution_count": 7,
     "metadata": {},
     "output_type": "execute_result"
    }
   ],
   "source": [
    "df_all = pd.concat([df_cvec, df_tfid, df_hash, df_smot, df_pcas, df_tsvd, df_w2vm, df_dnns], axis=0)\n",
    "df_all2 = df_all.set_index(['vectorizer', 'model', 'accuracy', 'class'])\n",
    "df_all2"
   ]
  },
  {
   "cell_type": "code",
   "execution_count": 8,
   "metadata": {},
   "outputs": [],
   "source": [
    "def f1_score_bar_plot(df, column, title):\n",
    "    \n",
    "    '''This function plots F1 scores from the given DataFrame and class'''\n",
    "    \n",
    "    plt.style.use('seaborn-pastel')\n",
    "    x = list(df[column])\n",
    "    y = list(df['f1-score'])\n",
    "    y_round = list(round(df['f1-score'],2))\n",
    "    a = (list(df['f1-score'])).index(max(list(df['f1-score'])))\n",
    "    z = (list(df['f1-score'])).index(min(list(df['f1-score'])))\n",
    "    y_mean = round(df['f1-score'].mean(),2)\n",
    "    \n",
    "    plt.rcParams['figure.figsize']=[15,5]\n",
    "    b_plot = plt.bar(x = x, height = y)\n",
    "    b_plot[a].set_color('blue')\n",
    "    b_plot[z].set_color('magenta')\n",
    "    \n",
    "    for i,v in enumerate(y_round):\n",
    "        plt.text(i-.2, 0.018, str(v), color='black', fontsize=15, fontweight='bold')\n",
    "    \n",
    "    plt.axhline(y_mean, ls='--', color='k', label=y_mean)\n",
    "    plt.title(title)\n",
    "    plt.legend(loc='upper right')\n",
    "    \n",
    "    return plt.show()"
   ]
  },
  {
   "cell_type": "code",
   "execution_count": 9,
   "metadata": {},
   "outputs": [
    {
     "data": {
      "image/png": "[encoded data removed]",
      "text/plain": [
       "<Figure size 1080x360 with 1 Axes>"
      ]
     },
     "metadata": {
      "needs_background": "light"
     },
     "output_type": "display_data"
    }
   ],
   "source": [
    "# Max \"Average F1 Scores\" of All\n",
    "df_avg = df_all[df_all['class']=='average']\n",
    "df_avg = df_avg.groupby(['vectorizer'], sort=False)['f1-score'].max()\n",
    "df_avg = df_avg.reset_index()\n",
    "f1_score_bar_plot(df=df_avg, column='vectorizer', title=\"Max 'Average Class F1 Scores' of All Vectorizers\")"
   ]
  },
  {
   "cell_type": "code",
   "execution_count": 10,
   "metadata": {},
   "outputs": [
    {
     "data": {
      "image/png": "[encoded data removed]",
      "text/plain": [
       "<Figure size 1080x360 with 1 Axes>"
      ]
     },
     "metadata": {
      "needs_background": "light"
     },
     "output_type": "display_data"
    }
   ],
   "source": [
    "# Max \"Minority Class F1 Scores\" of All Vectorizers\n",
    "\n",
    "df_neg = df_all[df_all['class']=='neg_review']\n",
    "df_neg = df_neg.groupby(['vectorizer'], sort=False)['f1-score'].max()\n",
    "df_neg = df_neg.reset_index()\n",
    "f1_score_bar_plot(df=df_neg, column='vectorizer', title=\"Max 'Minority Class F1 Scores of All Vectorizers\")"
   ]
  },
  {
   "cell_type": "markdown",
   "metadata": {},
   "source": [
    "- Overall, the best average F1 score of 0.85 was made by Count Vectorizer using Naive Bayes machine learning algorithm.\n",
    "- Count Vectorizer + SMOTE and Count Vectorizer + Truncated Support Vector Machines (TSVD) + SMOTE using Naive Bayes also share the same best average F1 score of 0.85.\n",
    "- The best minority class F1 score of 0.66 was made by Long Short Term Memory (LSTM) Recurrent Neural Network (RNN).  \n",
    "- Word2Vec with machine learning has the lowest average score of 0.81 and minority score of 0.49. "
   ]
  },
  {
   "cell_type": "code",
   "execution_count": null,
   "metadata": {},
   "outputs": [],
   "source": []
  }
 ],
 "metadata": {
  "kernelspec": {
   "display_name": "Python 3",
   "language": "python",
   "name": "python3"
  },
  "language_info": {
   "codemirror_mode": {
    "name": "ipython",
    "version": 3
   },
   "file_extension": ".py",
   "mimetype": "text/x-python",
   "name": "python",
   "nbconvert_exporter": "python",
   "pygments_lexer": "ipython3",
   "version": "3.7.4"
  }
 },
 "nbformat": 4,
 "nbformat_minor": 2
}
